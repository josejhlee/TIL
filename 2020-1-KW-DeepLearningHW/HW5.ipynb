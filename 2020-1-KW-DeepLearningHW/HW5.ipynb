{
  "nbformat": 4,
  "nbformat_minor": 0,
  "metadata": {
    "coursera": {
      "course_slug": "neural-networks-deep-learning",
      "graded_item_id": "XaIWT",
      "launcher_item_id": "zAgPl"
    },
    "kernelspec": {
      "display_name": "Python 3",
      "language": "python",
      "name": "python3"
    },
    "language_info": {
      "codemirror_mode": {
        "name": "ipython",
        "version": 3
      },
      "file_extension": ".py",
      "mimetype": "text/x-python",
      "name": "python",
      "nbconvert_exporter": "python",
      "pygments_lexer": "ipython3",
      "version": "3.6.0"
    },
    "colab": {
      "name": "HW5",
      "provenance": [],
      "collapsed_sections": []
    }
  },
  "cells": [
    {
      "cell_type": "markdown",
      "metadata": {
        "id": "9OA0f9oxYGYb",
        "colab_type": "text"
      },
      "source": [
        "# HW#5 Convolutional Neural Network\n",
        "\n",
        "안녕하세요, 광운대학교 로봇학부의 오정현 교수입니다. 본 자료는 딥러닝 실습 수업을 위해 제작된 것입니다.\n",
        "\n",
        "파이썬 문법\n",
        "- 점프투파이썬(https://wikidocs.net/book/1) 참고\n",
        "\n",
        "이번 과제는 Convolutional Neural Network를 이용하여 Classification을 해보는 것입니다.\n",
        "\n",
        "\n",
        "\n"
      ]
    },
    {
      "cell_type": "markdown",
      "metadata": {
        "id": "L9KBzwzd7Bub",
        "colab_type": "text"
      },
      "source": [
        "#1. CNN Classification\n",
        "지난 주에는 Multi-layer Neural Network를 이용하여 이미지를 분류하였습니다. CNN은 이미지 처리에 있어서 일반적인 Neural Network보다 높은 성능을 나타냅니다. \n",
        "\n",
        "지난 예제 (https://www.tensorflow.org/tutorials/keras/classification?hl=ko)에서 구현하였던 것처럼 fashion_mnist 분류기를 CNN으로 설계하여 보세요. \n",
        "CNN 예제 (https://www.tensorflow.org/tutorials/images/cnn)를 참고하셔도 됩니다.\n",
        "\n",
        "다양한 layer 개수, node 개수 등 모델의 parameter를 바꿔서 보다 높은 분류 성능이 나오도록 네트워크를 바꿔보세요. \n",
        "\n",
        "기존 NN에 비하여 성능이 높게 나오나요?\n"
      ]
    },
    {
      "cell_type": "code",
      "metadata": {
        "colab_type": "code",
        "id": "TmfiqmK11Aq3",
        "colab": {}
      },
      "source": [
        "### START CODE HERE ###\n",
        "\n",
        "### END CODE HERE ###"
      ],
      "execution_count": 0,
      "outputs": []
    }
  ]
}