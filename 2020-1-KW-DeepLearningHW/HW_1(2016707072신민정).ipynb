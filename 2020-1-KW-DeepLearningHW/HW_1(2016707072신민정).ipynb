{
  "nbformat": 4,
  "nbformat_minor": 0,
  "metadata": {
    "colab": {
      "name": "HW_1.ipynb",
      "provenance": [],
      "collapsed_sections": []
    },
    "kernelspec": {
      "name": "python3",
      "display_name": "Python 3"
    },
    "accelerator": "GPU"
  },
  "cells": [
    {
      "cell_type": "markdown",
      "metadata": {
        "colab_type": "text",
        "id": "tMce8muBqXQP"
      },
      "source": [
        "# HW#1 실습 환경 구축\n",
        "\n",
        "안녕하세요, 광운대학교 로봇학부의 오정현 교수입니다. 본 자료는 딥러닝 실습 수업을 위해 제작된 것입니다.\n",
        "\n",
        "\n",
        "첫 과제는 앞으로의 실습을 위한 환경 구축입니다. 3가지 목표를 달성해야 합니다.\n",
        "\n",
        "1. Colab을 이용하여 코드를 작성해보기\n",
        "2. Tensorflow 라이브러리를 사용해보기\n",
        "3. Colab에서 GPU 사용해보기"
      ]
    },
    {
      "cell_type": "markdown",
      "metadata": {
        "id": "yDOcSX-Xl4u_",
        "colab_type": "text"
      },
      "source": [
        "파이썬 문법에 익숙지 않다면 점프투파이썬(https://wikidocs.net/book/1) 을 참고해도 좋습니다."
      ]
    },
    {
      "cell_type": "markdown",
      "metadata": {
        "id": "wdcfcsXRmkah",
        "colab_type": "text"
      },
      "source": [
        "## 1. Colab을 이용하여 코드를 작성해보기\n",
        "Colab을 실행한 후 노트열기 (Ctrl+0)후 업로드로 파일을 불러오면 됩니다.\n",
        "\n",
        "아마도 이 화면을 보고 있다면 이미 Colab을 실행중이겠죠?\n",
        "\n",
        "**Exercise**: 아래 셀의 실행결과가 Hello World가 출력되도록 해보세요."
      ]
    },
    {
      "cell_type": "markdown",
      "metadata": {
        "id": "-Lk9a2Giq8dk",
        "colab_type": "text"
      },
      "source": [
        "<font color='blue'>\n",
        "**셀 실행 방법**:\n",
        "- CTRL+ENTER로 실행하면 됩니다. 혹은 런타임->초점이 맞춰진 셀 실행으로 실행하여도 됩니다."
      ]
    },
    {
      "cell_type": "code",
      "metadata": {
        "id": "SJTXozkapRSZ",
        "colab_type": "code",
        "outputId": "3e851e8a-f4b8-41a2-a024-0561e62ad4bb",
        "colab": {
          "base_uri": "https://localhost:8080/",
          "height": 35
        }
      },
      "source": [
        "### START CODE HERE ### (≈ 1 line of code)\n",
        "test = \"Hello World\"\n",
        "### END CODE HERE ###\n",
        "print (test)"
      ],
      "execution_count": 2,
      "outputs": [
        {
          "output_type": "stream",
          "text": [
            "Hello World\n"
          ],
          "name": "stdout"
        }
      ]
    },
    {
      "cell_type": "markdown",
      "metadata": {
        "id": "WLV3y7bjqiso",
        "colab_type": "text"
      },
      "source": [
        "예상 답안: Hello World"
      ]
    },
    {
      "cell_type": "markdown",
      "metadata": {
        "id": "UlsYLdEwoCz6",
        "colab_type": "text"
      },
      "source": [
        "## 2. Tensorflow 라이브러리를 사용해보기\n",
        "\n",
        "Tensorflow는 구글에서 만든 세계에서 가장 널리 쓰이고 있는 딥러닝 라이브러리입니다. 이 라이브러리를 import해 봅시다. \n",
        "\n",
        "텐서플로우 메뉴얼 공홈: https://www.tensorflow.org/api_docs/python/tf\n",
        "\n",
        "텐서플로우 메뉴얼 한글 메뉴얼 공홈: https://tensorflowkorea.gitbooks.io/tensorflow-kr/\n",
        "\n",
        "**Exercise**: Tensorflow를 import해보세요.\n",
        "\n",
        "명령어는 다음과 같습니다.\n",
        "\n",
        "import tensorflow as tf"
      ]
    },
    {
      "cell_type": "code",
      "metadata": {
        "id": "8Uu7PanMoHOF",
        "colab_type": "code",
        "colab": {}
      },
      "source": [
        "%tensorflow_version 2.x\n",
        "### START CODE HERE ### (≈ 1 line of code)\n",
        "import tensorflow as ft\n",
        "### END CODE HERE ###"
      ],
      "execution_count": 0,
      "outputs": []
    },
    {
      "cell_type": "code",
      "metadata": {
        "id": "o586Tgk7FyRj",
        "colab_type": "code",
        "colab": {
          "base_uri": "https://localhost:8080/",
          "height": 35
        },
        "outputId": "e24814bb-9ced-4c52-aef4-fbead65272ec"
      },
      "source": [
        "tf.__version__"
      ],
      "execution_count": 6,
      "outputs": [
        {
          "output_type": "execute_result",
          "data": {
            "text/plain": [
              "'2.2.0-rc2'"
            ]
          },
          "metadata": {
            "tags": []
          },
          "execution_count": 6
        }
      ]
    },
    {
      "cell_type": "markdown",
      "metadata": {
        "id": "16YY2mKSseoA",
        "colab_type": "text"
      },
      "source": [
        "예상 답안: TensorFlow 2.x selected."
      ]
    },
    {
      "cell_type": "markdown",
      "metadata": {
        "colab_type": "text",
        "id": "oM_8ELnJq_wd"
      },
      "source": [
        "## 3. Colab에서 GPU 사용해보기\n",
        "\n",
        "GPU 설정 방법은 다음과 같습니다.\n",
        "- 수정 -> 노트 설정 -> 하드웨어 가속기 GPU 설정\n",
        "\n",
        "아래 셀을 실행해보세요."
      ]
    },
    {
      "cell_type": "code",
      "metadata": {
        "colab_type": "code",
        "id": "sXnDmXR7RDr2",
        "outputId": "1a157998-ffa8-4aba-d794-5f27f2928f17",
        "colab": {
          "base_uri": "https://localhost:8080/",
          "height": 35
        }
      },
      "source": [
        "%tensorflow_version 2.x\n",
        "import tensorflow as tf\n",
        "device_name = tf.test.gpu_device_name()\n",
        "if device_name != '/device:GPU:0':\n",
        "  raise SystemError('GPU device not found')\n",
        "print('Found GPU at: {}'.format(device_name))"
      ],
      "execution_count": 7,
      "outputs": [
        {
          "output_type": "stream",
          "text": [
            "Found GPU at: /device:GPU:0\n"
          ],
          "name": "stdout"
        }
      ]
    },
    {
      "cell_type": "markdown",
      "metadata": {
        "id": "PXtWb05ztOaJ",
        "colab_type": "text"
      },
      "source": [
        "예상 답안: Found GPU at: /device:GPU:0"
      ]
    },
    {
      "cell_type": "markdown",
      "metadata": {
        "colab_type": "text",
        "id": "v3fE7KmKRDsH"
      },
      "source": [
        "### GPU 와 CPU의 성능 비교\n",
        "\n",
        "이 예제는 CPU와 GPU를 사용했을 때 성능 비교를 하기 위한 예제입니다.\n",
        "\n",
        "아래 셀을 실행해보세요."
      ]
    },
    {
      "cell_type": "code",
      "metadata": {
        "colab_type": "code",
        "id": "Y04m-jvKRDsJ",
        "outputId": "f7763bdd-ffe9-4716-b45a-772b828a8506",
        "colab": {
          "base_uri": "https://localhost:8080/",
          "height": 144
        }
      },
      "source": [
        "%tensorflow_version 2.x\n",
        "import tensorflow as tf\n",
        "import timeit\n",
        "\n",
        "device_name = tf.test.gpu_device_name()\n",
        "if device_name != '/device:GPU:0':\n",
        "  print(\n",
        "      '\\n\\nThis error most likely means that this notebook is not '\n",
        "      'configured to use a GPU.  Change this in Notebook Settings via the '\n",
        "      'command palette (cmd/ctrl-shift-P) or the Edit menu.\\n\\n')\n",
        "  raise SystemError('GPU device not found')\n",
        "\n",
        "def cpu():\n",
        "  with tf.device('/cpu:0'):\n",
        "    random_image_cpu = tf.random.normal((100, 100, 100, 3))\n",
        "    net_cpu = tf.keras.layers.Conv2D(32, 7)(random_image_cpu)\n",
        "    return tf.math.reduce_sum(net_cpu)\n",
        "\n",
        "def gpu():\n",
        "  with tf.device('/device:GPU:0'):\n",
        "    random_image_gpu = tf.random.normal((100, 100, 100, 3))\n",
        "    net_gpu = tf.keras.layers.Conv2D(32, 7)(random_image_gpu)\n",
        "    return tf.math.reduce_sum(net_gpu)\n",
        "  \n",
        "# We run each op once to warm up; see: https://stackoverflow.com/a/45067900\n",
        "cpu()\n",
        "gpu()\n",
        "\n",
        "# Run the op several times.\n",
        "print('Time (s) to convolve 32x7x7x3 filter over random 100x100x100x3 images '\n",
        "      '(batch x height x width x channel). Sum of ten runs.')\n",
        "print('CPU (s):')\n",
        "cpu_time = timeit.timeit('cpu()', number=10, setup=\"from __main__ import cpu\")\n",
        "print(cpu_time)\n",
        "print('GPU (s):')\n",
        "gpu_time = timeit.timeit('gpu()', number=10, setup=\"from __main__ import gpu\")\n",
        "print(gpu_time)\n",
        "print('GPU speedup over CPU: {}x'.format(int(cpu_time/gpu_time)))"
      ],
      "execution_count": 8,
      "outputs": [
        {
          "output_type": "stream",
          "text": [
            "Time (s) to convolve 32x7x7x3 filter over random 100x100x100x3 images (batch x height x width x channel). Sum of ten runs.\n",
            "CPU (s):\n",
            "3.668347396999934\n",
            "GPU (s):\n",
            "0.18967104900002596\n",
            "GPU speedup over CPU: 19x\n"
          ],
          "name": "stdout"
        }
      ]
    },
    {
      "cell_type": "markdown",
      "metadata": {
        "id": "8NyGmq8wG8RV",
        "colab_type": "text"
      },
      "source": [
        "\n",
        "\n",
        "\n",
        "Colab의 GPU가 현재 노트북의 CPU보다 약 19배 빠르다는 것을 알 수 있다."
      ]
    },
    {
      "cell_type": "markdown",
      "metadata": {
        "id": "GYv01SdFtU-U",
        "colab_type": "text"
      },
      "source": [
        "예상 답안:\n",
        "\n",
        "Time (s) to convolve 32x7x7x3 filter over random 100x100x100x3 images (batch x height x width x channel). Sum of ten runs.\n",
        "CPU (s):\n",
        "3.6692971040001794\n",
        "GPU (s):\n",
        "0.06024948999993285\n",
        "GPU speedup over CPU: 60x\n"
      ]
    },
    {
      "cell_type": "code",
      "metadata": {
        "id": "vDlBhy2TFMXN",
        "colab_type": "code",
        "colab": {}
      },
      "source": [
        ""
      ],
      "execution_count": 0,
      "outputs": []
    }
  ]
}